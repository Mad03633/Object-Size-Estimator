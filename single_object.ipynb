{
 "cells": [
  {
   "cell_type": "code",
   "execution_count": 16,
   "metadata": {},
   "outputs": [],
   "source": [
    "import cv2"
   ]
  },
  {
   "cell_type": "code",
   "execution_count": 17,
   "metadata": {},
   "outputs": [],
   "source": [
    "img = cv2.imread('single.png')"
   ]
  },
  {
   "cell_type": "code",
   "execution_count": 18,
   "metadata": {},
   "outputs": [],
   "source": [
    "# Convert to grayscale\n",
    "gray = cv2.cvtColor(img, cv2.COLOR_BGR2GRAY)\n",
    "\n",
    "# Apply Gaussian blur to reduce noise\n",
    "blurred = cv2.GaussianBlur(gray, (5, 5), 0)\n",
    "\n",
    "# Apply adaptive thresholding to better handle different lighting conditions\n",
    "thresh = cv2.adaptiveThreshold(blurred, 255, cv2.ADAPTIVE_THRESH_GAUSSIAN_C, cv2.THRESH_BINARY_INV, 11, 2)"
   ]
  },
  {
   "cell_type": "code",
   "execution_count": 19,
   "metadata": {},
   "outputs": [
    {
     "data": {
      "text/plain": [
       "array([[[33, 36, 39],\n",
       "        [33, 36, 39],\n",
       "        [33, 36, 39],\n",
       "        ...,\n",
       "        [33, 36, 39],\n",
       "        [33, 36, 39],\n",
       "        [33, 36, 39]],\n",
       "\n",
       "       [[33, 36, 39],\n",
       "        [33, 36, 39],\n",
       "        [33, 36, 39],\n",
       "        ...,\n",
       "        [33, 36, 39],\n",
       "        [33, 36, 39],\n",
       "        [33, 36, 39]],\n",
       "\n",
       "       [[33, 36, 39],\n",
       "        [33, 36, 39],\n",
       "        [33, 36, 39],\n",
       "        ...,\n",
       "        [33, 36, 39],\n",
       "        [33, 36, 39],\n",
       "        [33, 36, 39]],\n",
       "\n",
       "       ...,\n",
       "\n",
       "       [[33, 36, 39],\n",
       "        [33, 36, 39],\n",
       "        [33, 36, 39],\n",
       "        ...,\n",
       "        [33, 36, 39],\n",
       "        [33, 36, 39],\n",
       "        [33, 36, 39]],\n",
       "\n",
       "       [[33, 36, 39],\n",
       "        [33, 36, 39],\n",
       "        [33, 36, 39],\n",
       "        ...,\n",
       "        [33, 36, 39],\n",
       "        [33, 36, 39],\n",
       "        [33, 36, 39]],\n",
       "\n",
       "       [[33, 36, 39],\n",
       "        [33, 36, 39],\n",
       "        [33, 36, 39],\n",
       "        ...,\n",
       "        [33, 36, 39],\n",
       "        [33, 36, 39],\n",
       "        [33, 36, 39]]], dtype=uint8)"
      ]
     },
     "execution_count": 19,
     "metadata": {},
     "output_type": "execute_result"
    }
   ],
   "source": [
    "# Find the contours of the object\n",
    "contours, hierarchy = cv2.findContours(thresh, cv2.RETR_EXTERNAL, cv2.CHAIN_APPROX_SIMPLE)\n",
    "\n",
    "# Draw the contours on the original image \n",
    "cv2.drawContours(img, contours, -1, (0, 255, 0), 3)"
   ]
  },
  {
   "cell_type": "code",
   "execution_count": 20,
   "metadata": {},
   "outputs": [
    {
     "name": "stdout",
     "output_type": "stream",
     "text": [
      "Size:  63.695000000000014\n"
     ]
    }
   ],
   "source": [
    "# Get the area of the object in pixels (considering the largest contour found)\n",
    "if contours: \n",
    "    area = cv2.contourArea(max(contours, key=cv2.contourArea))\n",
    "    # Convert the area from pixels to a real-world unit of measurement (e.g., cm^2)\n",
    "    scale_factor = 0.1  # 1 pixel = 0.1 cm\n",
    "    size = area * scale_factor ** 2\n",
    "    print(\"Size: \", size)\n",
    "else:\n",
    "    print(\"No contours found!\")"
   ]
  },
  {
   "cell_type": "code",
   "execution_count": 21,
   "metadata": {},
   "outputs": [],
   "source": [
    "cv2.imshow(\"Object with Contours\", img)\n",
    "cv2.waitKey(0)\n",
    "cv2.destroyAllWindows()"
   ]
  },
  {
   "cell_type": "code",
   "execution_count": 22,
   "metadata": {},
   "outputs": [
    {
     "data": {
      "text/plain": [
       "True"
      ]
     },
     "execution_count": 22,
     "metadata": {},
     "output_type": "execute_result"
    }
   ],
   "source": [
    "cv2.imwrite(\"single_object_with_contours.jpg\", img)"
   ]
  }
 ],
 "metadata": {
  "kernelspec": {
   "display_name": "Python 3",
   "language": "python",
   "name": "python3"
  },
  "language_info": {
   "codemirror_mode": {
    "name": "ipython",
    "version": 3
   },
   "file_extension": ".py",
   "mimetype": "text/x-python",
   "name": "python",
   "nbconvert_exporter": "python",
   "pygments_lexer": "ipython3",
   "version": "3.11.5"
  }
 },
 "nbformat": 4,
 "nbformat_minor": 2
}
